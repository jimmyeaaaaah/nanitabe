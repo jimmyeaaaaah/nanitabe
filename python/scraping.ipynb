{
 "cells": [
  {
   "cell_type": "code",
   "execution_count": 17,
   "metadata": {},
   "outputs": [],
   "source": [
    "import requests\n",
    "from bs4 import BeautifulSoup\n",
    "import re\n",
    "import json\n"
   ]
  },
  {
   "cell_type": "code",
   "execution_count": 4,
   "metadata": {},
   "outputs": [],
   "source": [
    "url = \"https://www.kurashiru.com/recipes/6c656bdf-d8c9-427a-b669-f6e1d9f81fcd\""
   ]
  },
  {
   "cell_type": "code",
   "execution_count": 8,
   "metadata": {},
   "outputs": [],
   "source": [
    "def get_html(url, params=None, headers=None):\n",
    "    try:\n",
    "        resp = requests.get(url, params=params, headers=headers)\n",
    "        resp.encoding = 'utf8'\n",
    "        soup = BeautifulSoup(resp.text, \"html.parser\")\n",
    "        return soup\n",
    "    except Exception as e:\n",
    "        return None\n",
    "        "
   ]
  },
  {
   "cell_type": "code",
   "execution_count": 158,
   "metadata": {},
   "outputs": [],
   "source": [
    "def get_page_info(url):\n",
    "    result = {}\n",
    "    soup = get_html(url)\n",
    "    script = soup.find('script', string=re.compile('window.__delyKurashiruEnvironment.ssrContext'))\n",
    "    if script == None:\n",
    "        return\n",
    "    \n",
    "    try:\n",
    "        script_data = re.search(r'window\\.__delyKurashiruEnvironment\\.ssrContext\\s*=\\s*({.*?});', str(script))\n",
    "        if script_data == None:\n",
    "            return\n",
    "        data = json.loads(script_data.group(1))\n",
    "        if data == None:\n",
    "            return\n",
    "        attributes = data[\"state\"][\"fetchVideo\"][\"data\"][\"data\"][\"attributes\"]\n",
    "        ingredients = attributes[\"ingredients\"]\n",
    "        instructions = attributes[\"instructions\"]\n",
    "\n",
    "        result[\"recipe_id\"] = data[\"state\"][\"fetchVideo\"][\"data\"][\"data\"][\"id\"]\n",
    "        result[\"recipe_name\"] = attributes[\"title\"]\n",
    "        result[\"video_url\"] = attributes[\"mp4-url\"]\n",
    "        result[\"img_small_url\"] = attributes[\"thumbnail-square-small-url\"]\n",
    "        result[\"img_normal_url\"] = attributes[\"thumbnail-square-normal-url\"]\n",
    "        result[\"img_large_url\"] = attributes[\"thumbnail-square-large-url\"]\n",
    "        result[\"cooking_time\"] = attributes[\"cooking-time\"]\n",
    "        result[\"introduction\"] = attributes[\"introduction\"]\n",
    "        result[\"expense\"] = attributes[\"expense\"]\n",
    "        result[\"serving\"] = attributes[\"servings-size\"]\n",
    "        result[\"rating-count\"] = attributes[\"rating-count\"]\n",
    "        result[\"calorie\"] = attributes[\"calorie\"]\n",
    "\n",
    "        ingredient_list = []\n",
    "        for ingredient in ingredients:\n",
    "            if ingredient[\"type\"] != \"ingredients\":\n",
    "                continue\n",
    "            ingredient_dic = {}\n",
    "            ingredient_dic[\"ingredient_id\"] = ingredient[\"id\"]\n",
    "            ingredient_dic[\"ingredient_title\"] = ingredient[\"name\"]\n",
    "            ingredient_dic[\"ingredient_name\"] = ingredient[\"actual-name\"]\n",
    "            ingredient_dic[\"ingredient_amount\"] = ingredient[\"quantity-amount\"]\n",
    "            ingredient_list.append(ingredient_dic)\n",
    "        result[\"ingredient_list\"] = ingredient_list\n",
    "\n",
    "        instruction_list = []\n",
    "        for instruction in instructions:\n",
    "            if instruction[\"type\"] != \"instructions\":\n",
    "                continue\n",
    "            instruction_dic = {}\n",
    "            instruction_dic[\"index\"] = instruction[\"sort-order\"]\n",
    "            instruction_dic[\"body\"] = instruction[\"body\"]\n",
    "            instruction_list.append(instruction_dic)\n",
    "        result[\"instruction_list\"] = instruction_list\n",
    "    except Exception as e:\n",
    "        return\n",
    "    return result\n"
   ]
  },
  {
   "cell_type": "code",
   "execution_count": null,
   "metadata": {},
   "outputs": [],
   "source": []
  }
 ],
 "metadata": {
  "kernelspec": {
   "display_name": "Python 3",
   "language": "python",
   "name": "python3"
  },
  "language_info": {
   "codemirror_mode": {
    "name": "ipython",
    "version": 3
   },
   "file_extension": ".py",
   "mimetype": "text/x-python",
   "name": "python",
   "nbconvert_exporter": "python",
   "pygments_lexer": "ipython3",
   "version": "3.9.6"
  }
 },
 "nbformat": 4,
 "nbformat_minor": 2
}
