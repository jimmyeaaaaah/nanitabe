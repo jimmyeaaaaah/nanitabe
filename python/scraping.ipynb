{
 "cells": [
  {
   "cell_type": "code",
   "execution_count": 17,
   "metadata": {},
   "outputs": [],
   "source": [
    "import requests\n",
    "from bs4 import BeautifulSoup\n",
    "import re\n",
    "import json\n"
   ]
  },
  {
   "cell_type": "code",
   "execution_count": 4,
   "metadata": {},
   "outputs": [],
   "source": [
    "url = \"https://www.kurashiru.com/recipes/6c656bdf-d8c9-427a-b669-f6e1d9f81fcd\""
   ]
  },
  {
   "cell_type": "code",
   "execution_count": 8,
   "metadata": {},
   "outputs": [],
   "source": [
    "def get_html(url, params=None, headers=None):\n",
    "    try:\n",
    "        resp = requests.get(url, params=params, headers=headers)\n",
    "        resp.encoding = 'utf8'\n",
    "        soup = BeautifulSoup(resp.text, \"html.parser\")\n",
    "        return soup\n",
    "    except Exception as e:\n",
    "        return None\n",
    "        "
   ]
  },
  {
   "cell_type": "code",
   "execution_count": 158,
   "metadata": {},
   "outputs": [],
   "source": [
    "def get_page_info(url):\n",
    "    result = {}\n",
    "    soup = get_html(url)\n",
    "    \n",
    "    try:\n",
    "        script = soup.find('script', string=re.compile('window.__delyKurashiruEnvironment.ssrContext'))\n",
    "        if script == None:\n",
    "            return\n",
    "        script_data = re.search(r'window\\.__delyKurashiruEnvironment\\.ssrContext\\s*=\\s*({.*?});', str(script))\n",
    "        if script_data == None:\n",
    "            return\n",
    "        data = json.loads(script_data.group(1))\n",
    "        if data == None:\n",
    "            return\n",
    "        attributes = data[\"state\"][\"fetchVideo\"][\"data\"][\"data\"][\"attributes\"]\n",
    "        ingredients = attributes[\"ingredients\"]\n",
    "        instructions = attributes[\"instructions\"]\n",
    "\n",
    "        result[\"recipe_id\"] = data[\"state\"][\"fetchVideo\"][\"data\"][\"data\"][\"id\"]\n",
    "        result[\"recipe_name\"] = attributes[\"title\"]\n",
    "        result[\"video_url\"] = attributes[\"mp4-url\"]\n",
    "        result[\"img_small_url\"] = attributes[\"thumbnail-square-small-url\"]\n",
    "        result[\"img_normal_url\"] = attributes[\"thumbnail-square-normal-url\"]\n",
    "        result[\"img_large_url\"] = attributes[\"thumbnail-square-large-url\"]\n",
    "        result[\"cooking_time\"] = attributes[\"cooking-time\"]\n",
    "        result[\"introduction\"] = attributes[\"introduction\"]\n",
    "        result[\"expense\"] = attributes[\"expense\"]\n",
    "        result[\"serving\"] = attributes[\"servings-size\"]\n",
    "        result[\"rating-count\"] = attributes[\"rating-count\"]\n",
    "        result[\"calorie\"] = attributes[\"calorie\"]\n",
    "\n",
    "        ingredient_list = []\n",
    "        for ingredient in ingredients:\n",
    "            if ingredient[\"type\"] != \"ingredients\":\n",
    "                continue\n",
    "            ingredient_dic = {}\n",
    "            ingredient_dic[\"ingredient_id\"] = ingredient[\"id\"]\n",
    "            ingredient_dic[\"ingredient_title\"] = ingredient[\"name\"]\n",
    "            ingredient_dic[\"ingredient_name\"] = ingredient[\"actual-name\"]\n",
    "            ingredient_dic[\"ingredient_amount\"] = ingredient[\"quantity-amount\"]\n",
    "            ingredient_list.append(ingredient_dic)\n",
    "        result[\"ingredient_list\"] = ingredient_list\n",
    "\n",
    "        instruction_list = []\n",
    "        for instruction in instructions:\n",
    "            if instruction[\"type\"] != \"instructions\":\n",
    "                continue\n",
    "            instruction_dic = {}\n",
    "            instruction_dic[\"index\"] = instruction[\"sort-order\"]\n",
    "            instruction_dic[\"body\"] = instruction[\"body\"]\n",
    "            instruction_list.append(instruction_dic)\n",
    "        result[\"instruction_list\"] = instruction_list\n",
    "    except Exception as e:\n",
    "        return\n",
    "    return result\n"
   ]
  },
  {
   "cell_type": "code",
   "execution_count": 179,
   "metadata": {},
   "outputs": [],
   "source": [
    "def get_search_result_recipe_ids(keywords):\n",
    "    recipe_ids = []\n",
    "    base_url = 'https://www.kurashiru.com/search'\n",
    "    params = {'query': ' '.join(keywords)}\n",
    "    response = requests.get(base_url, params=params)\n",
    "    response.raise_for_status()\n",
    "    soup = BeautifulSoup(response.text, 'html.parser')\n",
    "    if soup == None:\n",
    "        return\n",
    "    try:\n",
    "        script = soup.find('script', string=re.compile('window.__delyKurashiruEnvironment.ssrContext'))\n",
    "        if script == None:\n",
    "            return\n",
    "        script_data = re.search(r'window\\.__delyKurashiruEnvironment\\.ssrContext\\s*=\\s*({.*?});', str(script))\n",
    "        if script_data == None:\n",
    "            return\n",
    "        data = json.loads(script_data.group(1))\n",
    "        if data == None:\n",
    "            return\n",
    "        recipes = data['state']['fetchMergedContentsSearchV2']['data']['data']\n",
    "        for recipe in recipes:\n",
    "            recipe_ids.append(recipe['id'])\n",
    "    except Exception as e:\n",
    "        return\n",
    "    return recipe_ids"
   ]
  },
  {
   "cell_type": "code",
   "execution_count": 180,
   "metadata": {},
   "outputs": [
    {
     "data": {
      "text/plain": [
       "['1258d283-820f-496c-9f86-41a445f6b93a',\n",
       " '97a84856-0b17-4933-99ec-26d0a3ecc12a',\n",
       " '835cabd1-d8cb-49e4-82e2-86422971a534',\n",
       " '9c1de890-1bf7-42cd-b4c2-04494b7966f8',\n",
       " 'bd675224-83ed-43ff-802a-c067e7bbec1e',\n",
       " '6c656bdf-d8c9-427a-b669-f6e1d9f81fcd',\n",
       " 'e246f553-24cf-4fbb-999f-21e92b45fbda',\n",
       " 'af888da8-eebf-4eef-9fe3-d328856bba9f',\n",
       " 'dafdf573-bf71-4504-9642-08c3915f4dd2',\n",
       " '17e6fc21-aa54-448e-b636-64e3d8eeb8f4',\n",
       " 'b17c2d4c-2372-4859-b2a0-1675c6e8a375',\n",
       " '08dcadab-ae46-4e24-a1b9-ccae48fcf1c3',\n",
       " '19124a50-5b58-4fb1-b66e-5b422e468bd2',\n",
       " '215dc346-ec32-41ce-80dc-1fff99930c73',\n",
       " '7df4b906-0f60-4114-a7db-83bf0ca9ec8b',\n",
       " 'eade0aff-404b-4fb4-b08b-7a8229ec26f2',\n",
       " '2bd298c7-7e17-460d-82df-ff060646de16',\n",
       " '4ffdddbc-ce5f-43ff-a657-15de17869c44',\n",
       " 'd2743115-940a-4a7f-9666-e743958b3309',\n",
       " '8849809e-e2c5-4cba-8960-5243fd96b0c2',\n",
       " '6c7fa4a1-5235-4061-8bf5-0872e2f47068',\n",
       " '3851c1ef-b510-4f42-a538-0f33d6b1a439',\n",
       " 'eb4b590a-dde5-42f7-9828-7a20307fe7f4',\n",
       " '386ba630-d66c-46ac-9aaf-c2a198412e3e',\n",
       " '67a25403-bc2f-4d2a-a9f0-105849f1fa2f',\n",
       " '1a3f3142-c078-485a-ab9e-e821022b27b5',\n",
       " 'c6dae68d-04b0-4cc8-bc44-ecbbb57e6c40',\n",
       " '41920dec-e4ed-47ef-904b-af111431f4e0',\n",
       " 'a64db74c-71ed-4c6f-8591-99dd30dfef74',\n",
       " '1d473cfe-08d0-46a5-9e3b-0731634b2abc']"
      ]
     },
     "execution_count": 180,
     "metadata": {},
     "output_type": "execute_result"
    }
   ],
   "source": [
    "keywords = [\"たまねぎ\", \"キャベツ\"]\n",
    "get_search_result_urls(keywords)"
   ]
  }
 ],
 "metadata": {
  "kernelspec": {
   "display_name": "Python 3",
   "language": "python",
   "name": "python3"
  },
  "language_info": {
   "codemirror_mode": {
    "name": "ipython",
    "version": 3
   },
   "file_extension": ".py",
   "mimetype": "text/x-python",
   "name": "python",
   "nbconvert_exporter": "python",
   "pygments_lexer": "ipython3",
   "version": "3.9.6"
  }
 },
 "nbformat": 4,
 "nbformat_minor": 2
}
